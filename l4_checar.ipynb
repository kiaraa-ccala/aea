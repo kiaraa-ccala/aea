{
  "nbformat": 4,
  "nbformat_minor": 0,
  "metadata": {
    "colab": {
      "provenance": []
    },
    "kernelspec": {
      "name": "python3",
      "display_name": "Python 3"
    },
    "language_info": {
      "name": "python"
    }
  },
  "cells": [
    {
      "cell_type": "markdown",
      "source": [
        "#**Laboratorio N° 04 - Parte práctica**\n",
        "\n",
        "*   La evaluación es estrictamente personal.\n",
        "*   Debe resolver todo el cuestionario en el presente cuaderno virtual.\n",
        "*   Debe renombrar el archivo como *L4_CODIGOPUCP.ipynb*, siendo *CODIGOPUCP* su código PUCP. No debe colocar literalmente *CODIGOPUCP*.\n",
        "*   Debe mantener una redacción adecuada y libre de errores ortográficos.\n",
        "* Cualquier incumplimiento de las indicaciones amerita una penalización en su nota."
      ],
      "metadata": {
        "id": "vsvNcz4SeLUS"
      }
    },
    {
      "cell_type": "markdown",
      "source": [
        "##**Pregunta 1** (12.5 pts)"
      ],
      "metadata": {
        "id": "RqBBGvLZrwn3"
      }
    },
    {
      "cell_type": "markdown",
      "source": [
        "Dada la siguiente expresión,\n",
        "\n",
        "![image.png](data:image/png;base64,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)\n",
        "\n",
        "realizar lo siguiente:"
      ],
      "metadata": {
        "id": "we_dC7lMpwSN"
      }
    },
    {
      "cell_type": "markdown",
      "source": [
        "1. (2 pts) Implementar la función *Ln(1+x)*, expresada como serie de McLaurin (la sumatoria mostrada en la imagen), en python. Esta función debe tener dos argumentos de entrada, el primero debe ser el valor de X como tal y el segundo la precisión, es decir, la cantidad de términos que se tienen que considerar para la sumatoria."
      ],
      "metadata": {
        "id": "xlaAZb5ZXiOo"
      }
    },
    {
      "cell_type": "code",
      "source": [
        "def mclaure1(x, n):\n",
        "    suma = 0\n",
        "    for i in range(1, n + 1):\n",
        "        suma = suma + ((pow(x, i)) * (pow(-1, i+1))) / i\n",
        "    return suma"
      ],
      "metadata": {
        "id": "-nVeymzdlIIn"
      },
      "execution_count": null,
      "outputs": []
    },
    {
      "cell_type": "markdown",
      "source": [
        "2. (1 pt) Implementar lo mismo de la primera pregunta, pero en lenguaje C."
      ],
      "metadata": {
        "id": "ON3kdgcPYBbH"
      }
    },
    {
      "cell_type": "code",
      "source": [
        "%%file mclaure2.c\n",
        "#include<stdio.h>\n",
        "#include<math.h>\n",
        "double mclaure2(double x,int n){\n",
        "    double suma=0;\n",
        "    for(int i=1;i<=n;i++){\n",
        "        suma=suma+((pow(x,i))*pow(-1,i+1))/(i);\n",
        "    }\n",
        "    return suma;\n",
        "}"
      ],
      "metadata": {
        "colab": {
          "base_uri": "https://localhost:8080/"
        },
        "id": "jOSrAeNcyiXu",
        "outputId": "749d2368-5093-4e9d-e1f9-bb1a7b064799"
      },
      "execution_count": null,
      "outputs": [
        {
          "output_type": "stream",
          "name": "stdout",
          "text": [
            "Overwriting mclaure2.c\n"
          ]
        }
      ]
    },
    {
      "cell_type": "code",
      "source": [
        "! gcc -c mclaure2.c -o mclaure2.o"
      ],
      "metadata": {
        "id": "0EL7XozpNdPN"
      },
      "execution_count": null,
      "outputs": []
    },
    {
      "cell_type": "code",
      "source": [
        "! gcc -shared mclaure2.o -o mclaure2.so"
      ],
      "metadata": {
        "id": "YYxjbWUKNer0"
      },
      "execution_count": null,
      "outputs": []
    },
    {
      "cell_type": "markdown",
      "source": [
        "3. (2 pts) Realizar el llamado de la función en C haciendo uso del módulo Ctypes en python. Además, comentar qué hace cada línea de código. Adicionalmente, explicar el motivo del tipo de variable escogido para cada parámetro de la función."
      ],
      "metadata": {
        "id": "VkNdxnGnYDXD"
      }
    },
    {
      "cell_type": "code",
      "source": [
        "import ctypes\n",
        "def ctypes_mclaure2():\n",
        "    lib = ctypes.CDLL('./mclaure2.so')\n",
        "    lib.mclaure2.argtypes = [ctypes.c_double, ctypes.c_int]\n",
        "    lib.mclaure2.restype  = ctypes.c_double\n",
        "    return lib.mclaure2\n",
        "\n",
        "\n",
        "\n",
        "\n"
      ],
      "metadata": {
        "id": "qp9IAprh7dK5"
      },
      "execution_count": null,
      "outputs": []
    },
    {
      "cell_type": "code",
      "source": [
        "c_mclaure2 = ctypes_mclaure2()"
      ],
      "metadata": {
        "id": "Bnlwa6Z2SRWA"
      },
      "execution_count": null,
      "outputs": []
    },
    {
      "cell_type": "markdown",
      "source": [
        "4. (0.5 pt) Ejecutar ambas funciones con un valor de X igual a 0.5 y una precisión de 20. Hallar el tiempo de ejecución de cada una. ¿Cuál es la función más rápida?¿Por qué? Fundamente su respuesta. *Sugerencia: usar la función perf_counter() para mayor precisión.*"
      ],
      "metadata": {
        "id": "tNH26wKDYrHA"
      }
    },
    {
      "cell_type": "code",
      "source": [
        "N = 0.5\n",
        "precision = 20\n",
        "resultado1_py= mclaure1(N,precision) # creamos una instancia para cada funcion de C\n",
        "resultado2_c = c_mclaure2(N,precision)\n",
        "print(f\"Validacion de la primera funcion de python : {resultado1_py}\")\n",
        "print(f\"Validacion de la segunda funcion de C : {resultado2_c}\")"
      ],
      "metadata": {
        "colab": {
          "base_uri": "https://localhost:8080/"
        },
        "id": "7gCGeKDE6MOS",
        "outputId": "e06f062b-6d15-4d08-b19a-875e30f177cf"
      },
      "execution_count": null,
      "outputs": [
        {
          "output_type": "stream",
          "name": "stdout",
          "text": [
            "Validacion de la primera funcion de python : 0.4054650927341771\n",
            "Validacion de la segunda funcion de C : 0.4054650927341771\n"
          ]
        }
      ]
    },
    {
      "cell_type": "code",
      "source": [
        "import ctypes\n",
        "import time\n",
        "x=0.5\n",
        "n=20\n",
        "tic = time.perf_counter()\n",
        "c_result = c_mclaure2(x,n)\n",
        "toc = time.perf_counter()\n",
        "tiempo_c = (toc-tic)*1e6\n",
        "print(\"Valor en C:\",c_result)\n",
        "print(\"tiempo en C:\",tiempo_c,\"us\")\n",
        "\n",
        "\n",
        "tic = time.perf_counter()\n",
        "py_result = mclaure1(x,n)\n",
        "toc = time.perf_counter()\n",
        "tiempo_py=(toc-tic)*1e6\n",
        "print(\"Valor en Py:\",py_result)\n",
        "print(\"tiempo en Py:\",tiempo_py,\"us\")\n"
      ],
      "metadata": {
        "colab": {
          "base_uri": "https://localhost:8080/"
        },
        "id": "g1X95LE-QAsl",
        "outputId": "e84be293-5f74-412e-e092-ed941392abc1"
      },
      "execution_count": null,
      "outputs": [
        {
          "output_type": "stream",
          "name": "stdout",
          "text": [
            "Valor en C: 0.4054650927341771\n",
            "tiempo en C: 110.42499954783125 us\n",
            "Valor en Py: 0.4054650927341771\n",
            "tiempo en Py: 147.6440002079471 us\n"
          ]
        }
      ]
    },
    {
      "cell_type": "markdown",
      "source": [
        "**Comentario:** La función más rápida es la de C. Ello se debe a que el programa en C es compilado, es decir que se está ejecutando un código en lenguaje máquina. En cambio el programa en Python es interpretado, es decir que un intérprete lo lee y lo ejecuta línea por línea. Asimismo, C es un lenguaje de bajo nivel, por lo que interacciona de manera más cercana con el hardware. Ello en comparación con Python que, al ser de alto nivel, consume más recursos según le convenga y, en consecuencia, tarda más."
      ],
      "metadata": {
        "id": "aF0D-FXwTI2a"
      }
    },
    {
      "cell_type": "markdown",
      "source": [
        "5. (0.5 pts) ¿Los resultados de ejecutar ambas funciones son iguales? En caso de no ser así, ¿Por qué son distintas? Justifique su respuesta. Precisión 20"
      ],
      "metadata": {
        "id": "YTthRGrAY1Le"
      }
    },
    {
      "cell_type": "markdown",
      "source": [
        "**Comentario:** Los resultados al ejecutar ambas funciones para x = 0.5 y precision = 20 son exactamente iguales tal como lo indica el error igual a 0.0"
      ],
      "metadata": {
        "id": "EW-ZqZfaUE2G"
      }
    },
    {
      "cell_type": "markdown",
      "source": [
        "6. (1.5 pts) Graficar los resultados para una precision que varía desde 20 a 40. ¿Son las gráficas iguales?¿Por qué? Aumentar de 1 en 1"
      ],
      "metadata": {
        "id": "vgWTvOU5Y75k"
      }
    },
    {
      "cell_type": "code",
      "source": [
        "import ctypes\n",
        "import time\n",
        "import matplotlib.pyplot as plt\n",
        "x = 0.5\n",
        "c_list = []\n",
        "py_list = []\n",
        "for N in range(20,41):\n",
        "    tic = time.perf_counter()\n",
        "    c_value = c_mclaure2(x,N)\n",
        "    toc = time.perf_counter()\n",
        "    c_time = (toc - tic)*1e6\n",
        "    c_list.append(c_time)\n",
        "\n",
        "    tic = time.perf_counter()\n",
        "    py_value = mclaure1(x,precision)\n",
        "    toc = time.perf_counter()\n",
        "    py_time = (toc - tic)*1e6\n",
        "    py_list.append(py_time)\n",
        "\n",
        "plt.plot(range(20,41),c_list)\n",
        "plt.plot(range(20,41),py_list)\n",
        "plt.grid()\n",
        "plt.legend([\"Time C\",\"Time Python\"])\n",
        "plt.xlabel(\"Iteraciones\")\n",
        "plt.ylabel(\"Tiempo [us]\")"
      ],
      "metadata": {
        "colab": {
          "base_uri": "https://localhost:8080/",
          "height": 467
        },
        "id": "JLkgzb1tUJpo",
        "outputId": "b93121fc-b467-40a6-c82b-56655ccfd474"
      },
      "execution_count": null,
      "outputs": [
        {
          "output_type": "execute_result",
          "data": {
            "text/plain": [
              "Text(0, 0.5, 'Tiempo [us]')"
            ]
          },
          "metadata": {},
          "execution_count": 43
        },
        {
          "output_type": "display_data",
          "data": {
            "text/plain": [
              "<Figure size 640x480 with 1 Axes>"
            ],
            "image/png": "[encoded data removed]"
          },
          "metadata": {}
        }
      ]
    },
    {
      "cell_type": "markdown",
      "source": [
        "**Comentario:** No son iguales, porque el programa en Python tiene un mayor tiempo de ejecución que el programa en C. Asimismo, conforme se aumenta la precision el programa en Python, se vuelve más lento con relación al programa en C."
      ],
      "metadata": {
        "id": "gl28nRkeZtU3"
      }
    },
    {
      "cell_type": "markdown",
      "source": [
        "7. (1.5 pt) Realizar un análisis temporal de las 2 funciones. Para ello se solicita hallar los tiempos de ejecución de cada una para 50 iteraciones. Hallar e imprimir la mediana como valor representativo del tiempo de ejecucion. Precisión 20"
      ],
      "metadata": {
        "id": "9B3LzLKlZAVB"
      }
    },
    {
      "cell_type": "code",
      "source": [
        "import ctypes\n",
        "import time\n",
        "import matplotlib.pyplot as plt\n",
        "import statistics\n",
        "\n",
        "x = 0.5\n",
        "N = 20\n",
        "c_list = []\n",
        "py_list = []\n",
        "for it in range(50):\n",
        "    tic = time.perf_counter()\n",
        "    c_value = c_mclaure2(x,N)\n",
        "    toc = time.perf_counter()\n",
        "    c_time = (toc - tic)*1e6\n",
        "    c_list.append(c_time)\n",
        "\n",
        "    tic = time.perf_counter()\n",
        "    py_value = mclaure1(x,precision)\n",
        "    toc = time.perf_counter()\n",
        "    py_time = (toc - tic)*1e6\n",
        "    py_list.append(py_time)\n",
        "\n",
        "print(\"Media de C \",statistics.median(c_list))\n",
        "print(\"Media de Py\",statistics.median(py_list))\n",
        "print(statistics.median(c_list)/statistics.median(py_list))\n",
        "plt.plot(c_list)\n",
        "plt.plot(py_list)\n",
        "plt.grid()\n",
        "plt.legend([\"Time C\",\"Time Python\"])\n",
        "plt.xlabel(\"Iteraciones\")\n",
        "plt.ylabel(\"Tiempo [us]\")"
      ],
      "metadata": {
        "colab": {
          "base_uri": "https://localhost:8080/",
          "height": 522
        },
        "id": "0WrEvTdcXR_-",
        "outputId": "6da5505c-83b1-41aa-e319-a797f63d7a83"
      },
      "execution_count": null,
      "outputs": [
        {
          "output_type": "stream",
          "name": "stdout",
          "text": [
            "Media de C  3.0199998946045525\n",
            "Media de Py 15.961999906721758\n",
            "0.1891993429553148\n"
          ]
        },
        {
          "output_type": "execute_result",
          "data": {
            "text/plain": [
              "Text(0, 0.5, 'Tiempo [us]')"
            ]
          },
          "metadata": {},
          "execution_count": 44
        },
        {
          "output_type": "display_data",
          "data": {
            "text/plain": [
              "<Figure size 640x480 with 1 Axes>"
            ],
            "image/png": "[encoded data removed]"
          },
          "metadata": {}
        }
      ]
    },
    {
      "cell_type": "markdown",
      "source": [
        "**Comentario:** Por lo tanto, ya que la mediana de tiempos en Python es mayor que la mediana de tiempos en C, el programa de C es más rápido,"
      ],
      "metadata": {
        "id": "gP4dZ0PWqfZ6"
      }
    },
    {
      "cell_type": "markdown",
      "source": [
        "8. (1.5 pts) Graficar los tiempos de ejecución a lo largo de las iteraciones. Comentar sobre la evolución de los tiempos de ejecución y explicar por qué se da de esa manera. Una vez más, ¿Cuál es la función más rápida?"
      ],
      "metadata": {
        "id": "ODo56CXmZciz"
      }
    },
    {
      "cell_type": "code",
      "source": [
        "import ctypes\n",
        "import time\n",
        "import matplotlib.pyplot as plt\n",
        "import statistics\n",
        "\n",
        "x = 0.5\n",
        "N = 20\n",
        "c_list = []\n",
        "py_list = []\n",
        "for it in range(50):\n",
        "    tic = time.perf_counter()\n",
        "    c_value = c_mclaure2(x,N)\n",
        "    toc = time.perf_counter()\n",
        "    c_time = (toc - tic)*1e6\n",
        "    c_list.append(c_time)\n",
        "\n",
        "    tic = time.perf_counter()\n",
        "    py_value = mclaure1(x,precision)\n",
        "    toc = time.perf_counter()\n",
        "    py_time = (toc - tic)*1e6\n",
        "    py_list.append(py_time)\n",
        "\n",
        "print(\"Media de C \",statistics.median(c_list))\n",
        "print(\"Media de Py\",statistics.median(py_list))\n",
        "print(statistics.median(c_list)/statistics.median(py_list))\n",
        "plt.plot(c_list)\n",
        "plt.plot(py_list)\n",
        "plt.grid()\n",
        "plt.legend([\"Time C\",\"Time Python\"])\n",
        "plt.xlabel(\"Iteraciones\")\n",
        "plt.ylabel(\"Tiempo [us]\")"
      ],
      "metadata": {
        "colab": {
          "base_uri": "https://localhost:8080/",
          "height": 522
        },
        "id": "tvkJjHq6Yxn7",
        "outputId": "045cb921-dcaa-4b77-e327-455503609cf1"
      },
      "execution_count": null,
      "outputs": [
        {
          "output_type": "stream",
          "name": "stdout",
          "text": [
            "Media de C  3.041999661945738\n",
            "Media de Py 16.55200048844563\n",
            "0.1837844110788452\n"
          ]
        },
        {
          "output_type": "execute_result",
          "data": {
            "text/plain": [
              "Text(0, 0.5, 'Tiempo [us]')"
            ]
          },
          "metadata": {},
          "execution_count": 45
        },
        {
          "output_type": "display_data",
          "data": {
            "text/plain": [
              "<Figure size 640x480 with 1 Axes>"
            ],
            "image/png": "[encoded data removed]"
          },
          "metadata": {}
        }
      ]
    },
    {
      "cell_type": "markdown",
      "source": [
        "**Comentario:** Para empezar, podemos notar que el tiempo de ejecución no se mantiene exactamente igual (aunque la mayoría de veces se obtienen valores próximos) a pesar de que se está ejecutando lo mismo en cada iteración, ello se puede deber a procesos en segundo plano que se están ejecutando y generan valores atípicos. Podemos notar que la función en C es más rápida, pues en la 50 interaciones su tiempo de ejecución fue significativamente mejor."
      ],
      "metadata": {
        "id": "RbrFkMddbKKX"
      }
    },
    {
      "cell_type": "markdown",
      "source": [
        "9. (1 pt) Calcular y graficar el SpeedUp a lo largo de las iteraciones. ¿La gráfica muestra siempre valores mayores o iguales a 1? En caso de no ser así, ¿Por qué?"
      ],
      "metadata": {
        "id": "iS6esKj4ZtYV"
      }
    },
    {
      "cell_type": "code",
      "source": [
        "import ctypes\n",
        "import time\n",
        "import matplotlib.pyplot as plt\n",
        "import statistics\n",
        "\n",
        "x = 0.5\n",
        "N = 20\n",
        "c_list = []\n",
        "py_list = []\n",
        "speedup_list = []\n",
        "for it in range(51):\n",
        "    tic = time.perf_counter()\n",
        "    c_value = c_mclaure2(x,N)\n",
        "    toc = time.perf_counter()\n",
        "    c_time = (toc - tic)*1e6\n",
        "\n",
        "    tic = time.perf_counter()\n",
        "    py_value = mclaure1(x,N)\n",
        "    toc = time.perf_counter()\n",
        "    py_time = (toc - tic)*1e6\n",
        "\n",
        "    speedup_list.append (py_time/c_time)\n",
        "\n",
        "plt.plot(range(51),speedup_list)\n",
        "plt.grid()\n",
        "plt.xlabel(\"Iteraciones\")\n",
        "plt.ylabel(\"SpeedUp\")"
      ],
      "metadata": {
        "colab": {
          "base_uri": "https://localhost:8080/",
          "height": 467
        },
        "id": "Qvc0DkFFnFrm",
        "outputId": "48fde280-f640-4108-8cb7-068317331a9a"
      },
      "execution_count": null,
      "outputs": [
        {
          "output_type": "execute_result",
          "data": {
            "text/plain": [
              "Text(0, 0.5, 'SpeedUp')"
            ]
          },
          "metadata": {},
          "execution_count": 57
        },
        {
          "output_type": "display_data",
          "data": {
            "text/plain": [
              "<Figure size 640x480 with 1 Axes>"
            ],
            "image/png": "[encoded data removed]"
          },
          "metadata": {}
        }
      ]
    },
    {
      "cell_type": "markdown",
      "source": [
        "**Comentario:** Sí, la gráfica muestra siempre valor mayores o iguales a 1, es decir que el programa en C es más rápido que el programa en Python en todas la iteraciones."
      ],
      "metadata": {
        "id": "Epvt7xGirA-z"
      }
    },
    {
      "cell_type": "markdown",
      "source": [
        "10. (1 pt) ¿Cuál es el valor óptimo para que se obtenga una precisión del 99.9% considerando que el valor real de *Ln(1.5)* es *0.405465* ?. Explique el procedimiento seguido para hallar el valor óptimo."
      ],
      "metadata": {
        "id": "AwuFZa3enkuu"
      }
    },
    {
      "cell_type": "code",
      "source": [
        "import ctypes\n",
        "import time\n",
        "import statistics\n",
        "x = 0.5\n",
        "real = 0.405465\n",
        "precision = 0.001*real\n",
        "n = 0\n",
        "  while True:\n",
        "    c_value = lib.c_mclaurin(x,precision)\n",
        "\n",
        "    error =\n",
        "    precision = precision + 1\n",
        "    if  error < precision:\n",
        "      break\n",
        "\n",
        "  print(f\"El valor óptimo para la precisión en C es: {precision-1}\")"
      ],
      "metadata": {
        "colab": {
          "base_uri": "https://localhost:8080/"
        },
        "id": "WtpaU_gHq_sg",
        "outputId": "156d5296-73b8-4142-b893-47e00fcf36d0"
      },
      "execution_count": null,
      "outputs": [
        {
          "output_type": "stream",
          "name": "stdout",
          "text": [
            "El valor óptimo para la precisión en C es: 7\n"
          ]
        }
      ]
    },
    {
      "cell_type": "markdown",
      "source": [
        "Se introdujo una variable error para calcular el error relativo en cada iteración conforme se aumentaba la precisión, de este modo al lograr la presición deseada se detenía el bucle while. Solo se consideró el valor obtenido a partir de la función en C, puesto que como se vió en un inciso anterior el valor que se obtiene con el programa en python es el mismo"
      ],
      "metadata": {
        "id": "MG-nuCqyt8g6"
      }
    },
    {
      "cell_type": "markdown",
      "source": [
        "##**Pregunta 2** (3.5 pts)"
      ],
      "metadata": {
        "id": "g2ri38Q5r4sv"
      }
    },
    {
      "cell_type": "markdown",
      "source": [
        "Se brinda la siguiente porción de código en C:"
      ],
      "metadata": {
        "id": "e3WCR-kzc2Il"
      }
    },
    {
      "cell_type": "code",
      "execution_count": null,
      "metadata": {
        "id": "QzOM_z6dI1F6",
        "colab": {
          "base_uri": "https://localhost:8080/"
        },
        "outputId": "56c93e66-24d3-44f9-a38f-f30c97ae49a6"
      },
      "outputs": [
        {
          "output_type": "stream",
          "name": "stdout",
          "text": [
            "Writing func.c\n"
          ]
        }
      ],
      "source": [
        "%%file func.c\n",
        "\n",
        "void func(double *a, double *b, double *c, double *d, int N)\n",
        "{\n",
        "    for (int i = 0; i<N; i++)\n",
        "    {\n",
        "        d[i] = a[i] * b[i] - c[i];\n",
        "    }\n",
        "}"
      ]
    },
    {
      "cell_type": "markdown",
      "source": [
        "Compilar y mostrar el código desensamblado con los siguientes comandos:"
      ],
      "metadata": {
        "id": "8M3VCcFHeXBF"
      }
    },
    {
      "cell_type": "code",
      "execution_count": null,
      "metadata": {
        "id": "XbSN2t7SI1F9",
        "colab": {
          "base_uri": "https://localhost:8080/"
        },
        "outputId": "89ac1e34-b0b9-4474-f249-60418971de49"
      },
      "outputs": [
        {
          "output_type": "stream",
          "name": "stdout",
          "text": [
            "\n",
            "func.o:     file format elf64-x86-64\n",
            "\n",
            "\n",
            "Disassembly of section .text:\n",
            "\n",
            "0000000000000000 <func>:\n",
            "   0:\tf3 0f 1e fa          \tendbr64 \n",
            "   4:\t31 c0                \txor    eax,eax\n",
            "   6:\t41 39 c0             \tcmp    r8d,eax\n",
            "   9:\t7e 19                \tjle    24 <func+0x24>\n",
            "   b:\tf2 0f 10 04 c7       \tmovsd  xmm0,QWORD PTR [rdi+rax*8]\n",
            "  10:\tf2 0f 59 04 c6       \tmulsd  xmm0,QWORD PTR [rsi+rax*8]\n",
            "  15:\tf2 0f 5c 04 c2       \tsubsd  xmm0,QWORD PTR [rdx+rax*8]\n",
            "  1a:\tf2 0f 11 04 c1       \tmovsd  QWORD PTR [rcx+rax*8],xmm0\n",
            "  1f:\t48 ff c0             \tinc    rax\n",
            "  22:\teb e2                \tjmp    6 <func+0x6>\n",
            "  24:\tc3                   \tret    \n"
          ]
        }
      ],
      "source": [
        "! gcc -Os -c func.c -o func.o\n",
        "! objdump -M intel -j .text -D func.o"
      ]
    },
    {
      "cell_type": "markdown",
      "source": [
        "1. (1 pt) Determinar el número de instrucciones totales. Generalizar con una fórmula para cualquier valor de N.\n",
        "\n",
        "Para N = 0: #instrucciones = 5\n",
        "\n",
        "Para N = 1: #instrucciones = 13\n",
        "\n",
        "Para N = 2: #instrucciones = 21\n",
        "\n",
        "Para N = 3: #instrucciones = 29\n",
        "\n",
        "Para N = 4: #instrucciones = 37\n",
        "\n",
        "Por inferencia se obtiene que: **#instrucciones = 5 + 8N**"
      ],
      "metadata": {
        "id": "hHptlpbWe1IF"
      }
    },
    {
      "cell_type": "markdown",
      "source": [
        "Complete la línea de código solicitada en la función *calc_num_instr* :"
      ],
      "metadata": {
        "id": "XEGot5M3lSp2"
      }
    },
    {
      "cell_type": "code",
      "execution_count": null,
      "metadata": {
        "id": "o14piifwI1F-",
        "colab": {
          "base_uri": "https://localhost:8080/"
        },
        "outputId": "fa1512ad-b064-455f-ced7-ca8887f3ccae"
      },
      "outputs": [
        {
          "output_type": "stream",
          "name": "stdout",
          "text": [
            "Overwriting test.c\n"
          ]
        }
      ],
      "source": [
        "%%file test.c\n",
        "\n",
        "#include <x86intrin.h>\n",
        "#include <stdio.h>\n",
        "#include <stdlib.h>\n",
        "#include <time.h>\n",
        "\n",
        "double* crear_arr (int N)\n",
        "{\n",
        "    double *v = (double*)malloc(sizeof(double)*N);\n",
        "    for (int i = 0; i<N ;i++)\n",
        "    {\n",
        "        v[i] = rand() % 9;\n",
        "    }\n",
        "    return v;\n",
        "}\n",
        "\n",
        "void fill_arr(int *v, int N)\n",
        "{\n",
        "    for (int i = 0; i<N; i++)\n",
        "    {\n",
        "        v[i] = rand() % 9;\n",
        "    }\n",
        "}\n",
        "\n",
        "int calc_num_instr (int N)\n",
        "{\n",
        "    int num_instr;\n",
        "\n",
        "    num_instr = 5 + 8*N;\n",
        "\n",
        "    return num_instr;\n",
        "}\n",
        "\n",
        "void func(double *a, double *b, double *c, double *d, int N)\n",
        "{\n",
        "    for (int i = 0; i<N; i++)\n",
        "    {\n",
        "        d[i] = a[i] * b[i] - c[i];\n",
        "    }\n",
        "}\n",
        "\n",
        "double calcular_CPI(long int num_cic, int num_inst)\n",
        "{\n",
        "    return (double)num_cic/(double)num_inst;\n",
        "}\n",
        "\n",
        "int main()\n",
        "{\n",
        "    srand(time(NULL));\n",
        "\n",
        "    int N = 8;\n",
        "    double* a = crear_arr(N);\n",
        "    double* b = crear_arr(N);\n",
        "    double* c = crear_arr(N);\n",
        "    double* d = crear_arr(N);\n",
        "\n",
        "    long tic, toc, ciclos;\n",
        "\n",
        "    tic = __rdtsc();\n",
        "    func(a,b,c,d,N);\n",
        "    toc = __rdtsc();\n",
        "\n",
        "    ciclos = toc - tic;\n",
        "\n",
        "    int num_instr = calc_num_instr(N);\n",
        "\n",
        "    double CPI = calcular_CPI(ciclos, num_instr);\n",
        "\n",
        "    printf(\"# instrucciones: %d \\n\", num_instr);\n",
        "    printf(\"ciclos: %ld \\n\", ciclos);\n",
        "    printf(\"CPI promedio: %lf\\n\", CPI);\n",
        "    return 0;\n",
        "}"
      ]
    },
    {
      "cell_type": "code",
      "source": [
        "! gcc test.c -o test & ./test"
      ],
      "metadata": {
        "colab": {
          "base_uri": "https://localhost:8080/"
        },
        "id": "Aejx7iJpdlp-",
        "outputId": "7c0ca5fd-fb47-42ff-be2d-c4c09a9a0c88"
      },
      "execution_count": null,
      "outputs": [
        {
          "output_type": "stream",
          "name": "stdout",
          "text": [
            "# instrucciones: 69 \n",
            "ciclos: 266 \n",
            "CPI promedio: 3.855072\n"
          ]
        }
      ]
    },
    {
      "cell_type": "markdown",
      "source": [
        "Compilar, ejecutar el programa y responder las preguntas:"
      ],
      "metadata": {
        "id": "BOdDhb8CnSB2"
      }
    },
    {
      "cell_type": "markdown",
      "source": [
        "2. (1.5 pts) Explique detalladamente el procedimiento de cómo se halló el valor del CPI promedio e indique cuál es su valor (debe explicar la utilidad de la función  *__rdtsc()* ). Adicionalmente, hallar el tiempo de ejecución calculado por definición.\n",
        "\n",
        "**Respuesta:** Para hallar el CPI promedio se dividió el número de instrucciones del programa entre los ciclos de reloj que tomó su ejecución. Por un lado, para hallar el número de instrucciones se utilizó la fórmula generalizada para calcular el número de instrucciones para cualquier valor de N. Por otro lado, para hallar los ciclos de reloj se empleo la función *__rdtsc()* de la librería *x86intrin.h*. Esta función retorna el conteo del número de ciclos del CPU desde su último reinicio; de modo que al guardar este conteo de ciclos tanto justo antes como justo después de la ejecución de la función *func* en las variables tic y toc respectivamente, se puede obtener el número de ciclos que tomó la ejecución del programa mediante la diferencia *toc - tic*."
      ],
      "metadata": {
        "id": "VWAl_Gc7igil"
      }
    },
    {
      "cell_type": "code",
      "source": [
        "! lscpu | grep \"GHz\""
      ],
      "metadata": {
        "colab": {
          "base_uri": "https://localhost:8080/"
        },
        "id": "NYYzob8Ygr8c",
        "outputId": "4112f779-a534-4efc-82e1-03592ec8fbf5"
      },
      "execution_count": null,
      "outputs": [
        {
          "output_type": "stream",
          "name": "stdout",
          "text": [
            "Model name:                         Intel(R) Xeon(R) CPU @ 2.20GHz\n"
          ]
        }
      ]
    },
    {
      "cell_type": "markdown",
      "source": [
        "El tiempo de ejecución por definición es T = Ciclos/Frecuencia = 266/(2.2 X 10⁹) = **120,909090909 us**"
      ],
      "metadata": {
        "id": "yvCr2f39g3Bp"
      }
    },
    {
      "cell_type": "markdown",
      "source": [
        "3. (1 pt) Con sus propias palabras, ¿Cómo está relacionada CPI con MIPS y FLOPS? Hallar el valor de los MIPS y los FLOPS del programa.\n",
        "\n",
        "Para empezar, los MIPS son millones de instrucciones por segundo, es decir que si se tiene un CPI mayor, entonces los MIPS serán menores; ello se debe a que se requerirán más ciclos para ejecutar una instrucción y, en consecuencia, también más tiempo. De manera similar, los FLOPS son operaciones de punto flotante por segundo, por lo cual si se tiene un mayor CPI los FLOPS serán menores.\n",
        "\n",
        "MIPS = #instrucciones/(Texec X 10^6) = 69/(120,909090909 X (10^(-3))) = **570,676691729**\n",
        "\n",
        "Para hallar los FLOPS primero debemos hallar la fórmula para #flops:\n",
        "\n",
        "Para N = 0: #flops = 0\n",
        "\n",
        "Para N = 1: #flops = 4\n",
        "\n",
        "Para N = 2: #flops = 8\n",
        "\n",
        "Por inferencia: #flops = 4N\n",
        "\n",
        "Para N = 8 (valor asignado en el programa), se tiene: #flops = 32\n",
        "\n",
        "FLOPS = #flops/(Texec X 10^6) = 32/(120,909090909 X (10^(-3))) = **264,661654135**"
      ],
      "metadata": {
        "id": "RuI5R8g-ibj1"
      }
    }
  ]
}